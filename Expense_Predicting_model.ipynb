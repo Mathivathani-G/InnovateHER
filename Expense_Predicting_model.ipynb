{
 "cells": [
  {
   "cell_type": "code",
   "execution_count": 2,
   "id": "39674aa1-2b82-47c0-87e9-638b65ea9546",
   "metadata": {},
   "outputs": [
    {
     "name": "stdout",
     "output_type": "stream",
     "text": [
      "Defaulting to user installation because normal site-packages is not writeable\n",
      "Collecting dpctl\n",
      "  Downloading dpctl-0.17.0-0-cp39-cp39-manylinux_2_28_x86_64.whl.metadata (6.3 kB)\n",
      "Requirement already satisfied: numpy in /opt/intel/oneapi/intelpython/envs/modin/lib/python3.9/site-packages (from dpctl) (1.26.4)\n",
      "Collecting dpcpp-cpp-rt (from dpctl)\n",
      "  Downloading dpcpp_cpp_rt-2024.2.1-py2.py3-none-manylinux1_x86_64.whl.metadata (1.3 kB)\n",
      "Collecting intel-opencl-rt==2024.2.1 (from dpcpp-cpp-rt->dpctl)\n",
      "  Downloading intel_opencl_rt-2024.2.1-py2.py3-none-manylinux1_x86_64.whl.metadata (1.2 kB)\n",
      "Collecting intel-openmp==2024.2.1 (from dpcpp-cpp-rt->dpctl)\n",
      "  Downloading intel_openmp-2024.2.1-py2.py3-none-manylinux1_x86_64.whl.metadata (1.2 kB)\n",
      "Collecting intel-sycl-rt==2024.2.1 (from dpcpp-cpp-rt->dpctl)\n",
      "  Downloading intel_sycl_rt-2024.2.1-py2.py3-none-manylinux1_x86_64.whl.metadata (1.4 kB)\n",
      "Collecting tbb==2021.* (from intel-opencl-rt==2024.2.1->dpcpp-cpp-rt->dpctl)\n",
      "  Downloading tbb-2021.13.1-py2.py3-none-manylinux1_x86_64.whl.metadata (1.0 kB)\n",
      "Collecting intel-cmplr-lic-rt==2024.* (from intel-opencl-rt==2024.2.1->dpcpp-cpp-rt->dpctl)\n",
      "  Downloading intel_cmplr_lic_rt-2024.2.1-py2.py3-none-manylinux1_x86_64.whl.metadata (1.2 kB)\n",
      "Collecting intel-cmplr-lib-ur==2024.2.1 (from intel-openmp==2024.2.1->dpcpp-cpp-rt->dpctl)\n",
      "  Downloading intel_cmplr_lib_ur-2024.2.1-py2.py3-none-manylinux1_x86_64.whl.metadata (1.2 kB)\n",
      "Collecting intel-cmplr-lib-rt==2024.2.1 (from intel-sycl-rt==2024.2.1->dpcpp-cpp-rt->dpctl)\n",
      "  Downloading intel_cmplr_lib_rt-2024.2.1-py2.py3-none-manylinux1_x86_64.whl.metadata (1.2 kB)\n",
      "Downloading dpctl-0.17.0-0-cp39-cp39-manylinux_2_28_x86_64.whl (35.0 MB)\n",
      "\u001b[2K   \u001b[90m━━━━━━━━━━━━━━━━━━━━━━━━━━━━━━━━━━━━━━━━\u001b[0m \u001b[32m35.0/35.0 MB\u001b[0m \u001b[31m12.0 MB/s\u001b[0m eta \u001b[36m0:00:00\u001b[0m00:01\u001b[0m00:01\u001b[0m\n",
      "\u001b[?25hDownloading dpcpp_cpp_rt-2024.2.1-py2.py3-none-manylinux1_x86_64.whl (34 kB)\n",
      "Downloading intel_opencl_rt-2024.2.1-py2.py3-none-manylinux1_x86_64.whl (201.2 MB)\n",
      "\u001b[2K   \u001b[90m━━━━━━━━━━━━━━━━━━━━━━━━━━━━━━━━━━━━━━━━\u001b[0m \u001b[32m201.2/201.2 MB\u001b[0m \u001b[31m28.1 MB/s\u001b[0m eta \u001b[36m0:00:00\u001b[0m00:01\u001b[0m00:01\u001b[0m\n",
      "\u001b[?25hDownloading intel_openmp-2024.2.1-py2.py3-none-manylinux1_x86_64.whl (29.6 MB)\n",
      "\u001b[2K   \u001b[90m━━━━━━━━━━━━━━━━━━━━━━━━━━━━━━━━━━━━━━━━\u001b[0m \u001b[32m29.6/29.6 MB\u001b[0m \u001b[31m109.9 MB/s\u001b[0m eta \u001b[36m0:00:00\u001b[0m00:01\u001b[0m00:01\u001b[0m\n",
      "\u001b[?25hDownloading intel_sycl_rt-2024.2.1-py2.py3-none-manylinux1_x86_64.whl (10.3 MB)\n",
      "\u001b[2K   \u001b[90m━━━━━━━━━━━━━━━━━━━━━━━━━━━━━━━━━━━━━━━━\u001b[0m \u001b[32m10.3/10.3 MB\u001b[0m \u001b[31m149.2 MB/s\u001b[0m eta \u001b[36m0:00:00\u001b[0m \u001b[36m0:00:01\u001b[0m\n",
      "\u001b[?25hDownloading intel_cmplr_lib_rt-2024.2.1-py2.py3-none-manylinux1_x86_64.whl (45.1 MB)\n",
      "\u001b[2K   \u001b[90m━━━━━━━━━━━━━━━━━━━━━━━━━━━━━━━━━━━━━━━━\u001b[0m \u001b[32m45.1/45.1 MB\u001b[0m \u001b[31m87.1 MB/s\u001b[0m eta \u001b[36m0:00:00\u001b[0m:00:01\u001b[0m00:01\u001b[0m\n",
      "\u001b[?25hDownloading intel_cmplr_lib_ur-2024.2.1-py2.py3-none-manylinux1_x86_64.whl (5.9 MB)\n",
      "\u001b[2K   \u001b[90m━━━━━━━━━━━━━━━━━━━━━━━━━━━━━━━━━━━━━━━━\u001b[0m \u001b[32m5.9/5.9 MB\u001b[0m \u001b[31m138.5 MB/s\u001b[0m eta \u001b[36m0:00:00\u001b[0m00:01\u001b[0m\n",
      "\u001b[?25hDownloading intel_cmplr_lic_rt-2024.2.1-py2.py3-none-manylinux1_x86_64.whl (19 kB)\n",
      "Downloading tbb-2021.13.1-py2.py3-none-manylinux1_x86_64.whl (5.4 MB)\n",
      "\u001b[2K   \u001b[90m━━━━━━━━━━━━━━━━━━━━━━━━━━━━━━━━━━━━━━━━\u001b[0m \u001b[32m5.4/5.4 MB\u001b[0m \u001b[31m117.9 MB/s\u001b[0m eta \u001b[36m0:00:00\u001b[0m00:01\u001b[0m\n",
      "\u001b[?25hInstalling collected packages: tbb, intel-cmplr-lic-rt, intel-cmplr-lib-ur, intel-cmplr-lib-rt, intel-sycl-rt, intel-openmp, intel-opencl-rt, dpcpp-cpp-rt, dpctl\n",
      "Successfully installed dpcpp-cpp-rt-2024.2.1 dpctl-0.17.0 intel-cmplr-lib-rt-2024.2.1 intel-cmplr-lib-ur-2024.2.1 intel-cmplr-lic-rt-2024.2.1 intel-opencl-rt-2024.2.1 intel-openmp-2024.2.1 intel-sycl-rt-2024.2.1 tbb-2021.13.1\n",
      "Note: you may need to restart the kernel to use updated packages.\n"
     ]
    }
   ],
   "source": [
    "pip install dpctl"
   ]
  },
  {
   "cell_type": "code",
   "execution_count": 4,
   "id": "17c3404a-858f-413e-a388-93cffa723865",
   "metadata": {},
   "outputs": [
    {
     "name": "stdout",
     "output_type": "stream",
     "text": [
      "Defaulting to user installation because normal site-packages is not writeable\n",
      "Collecting scikit-learn-intelex\n",
      "  Downloading scikit_learn_intelex-2024.7.0-py39-none-manylinux1_x86_64.whl.metadata (12 kB)\n",
      "Collecting daal4py==2024.7.0 (from scikit-learn-intelex)\n",
      "  Downloading daal4py-2024.7.0-py39-none-manylinux1_x86_64.whl.metadata (7.4 kB)\n",
      "Collecting scikit-learn>=0.22 (from scikit-learn-intelex)\n",
      "  Downloading scikit_learn-1.5.2-cp39-cp39-manylinux_2_17_x86_64.manylinux2014_x86_64.whl.metadata (13 kB)\n",
      "Collecting daal==2024.7.0 (from daal4py==2024.7.0->scikit-learn-intelex)\n",
      "  Downloading daal-2024.7.0-py2.py3-none-manylinux1_x86_64.whl.metadata (1.1 kB)\n",
      "Requirement already satisfied: numpy>=1.19 in /opt/intel/oneapi/intelpython/envs/modin/lib/python3.9/site-packages (from daal4py==2024.7.0->scikit-learn-intelex) (1.26.4)\n",
      "Requirement already satisfied: tbb==2021.* in ./.local/lib/python3.9/site-packages (from daal==2024.7.0->daal4py==2024.7.0->scikit-learn-intelex) (2021.13.1)\n",
      "Collecting scipy>=1.6.0 (from scikit-learn>=0.22->scikit-learn-intelex)\n",
      "  Downloading scipy-1.13.1-cp39-cp39-manylinux_2_17_x86_64.manylinux2014_x86_64.whl.metadata (60 kB)\n",
      "\u001b[2K     \u001b[90m━━━━━━━━━━━━━━━━━━━━━━━━━━━━━━━━━━━━━━━━\u001b[0m \u001b[32m60.6/60.6 kB\u001b[0m \u001b[31m3.6 MB/s\u001b[0m eta \u001b[36m0:00:00\u001b[0m\n",
      "\u001b[?25hCollecting joblib>=1.2.0 (from scikit-learn>=0.22->scikit-learn-intelex)\n",
      "  Downloading joblib-1.4.2-py3-none-any.whl.metadata (5.4 kB)\n",
      "Collecting threadpoolctl>=3.1.0 (from scikit-learn>=0.22->scikit-learn-intelex)\n",
      "  Downloading threadpoolctl-3.5.0-py3-none-any.whl.metadata (13 kB)\n",
      "Downloading scikit_learn_intelex-2024.7.0-py39-none-manylinux1_x86_64.whl (191 kB)\n",
      "\u001b[2K   \u001b[90m━━━━━━━━━━━━━━━━━━━━━━━━━━━━━━━━━━━━━━━━\u001b[0m \u001b[32m191.5/191.5 kB\u001b[0m \u001b[31m10.2 MB/s\u001b[0m eta \u001b[36m0:00:00\u001b[0m\n",
      "\u001b[?25hDownloading daal4py-2024.7.0-py39-none-manylinux1_x86_64.whl (11.3 MB)\n",
      "\u001b[2K   \u001b[90m━━━━━━━━━━━━━━━━━━━━━━━━━━━━━━━━━━━━━━━━\u001b[0m \u001b[32m11.3/11.3 MB\u001b[0m \u001b[31m121.8 MB/s\u001b[0m eta \u001b[36m0:00:00\u001b[0m00:01\u001b[0m0:01\u001b[0m\n",
      "\u001b[?25hDownloading daal-2024.7.0-py2.py3-none-manylinux1_x86_64.whl (66.6 MB)\n",
      "\u001b[2K   \u001b[90m━━━━━━━━━━━━━━━━━━━━━━━━━━━━━━━━━━━━━━━━\u001b[0m \u001b[32m66.6/66.6 MB\u001b[0m \u001b[31m62.6 MB/s\u001b[0m eta \u001b[36m0:00:00\u001b[0m:00:01\u001b[0m00:01\u001b[0m\n",
      "\u001b[?25hDownloading scikit_learn-1.5.2-cp39-cp39-manylinux_2_17_x86_64.manylinux2014_x86_64.whl (13.4 MB)\n",
      "\u001b[2K   \u001b[90m━━━━━━━━━━━━━━━━━━━━━━━━━━━━━━━━━━━━━━━━\u001b[0m \u001b[32m13.4/13.4 MB\u001b[0m \u001b[31m121.4 MB/s\u001b[0m eta \u001b[36m0:00:00\u001b[0m00:01\u001b[0m00:01\u001b[0m\n",
      "\u001b[?25hDownloading joblib-1.4.2-py3-none-any.whl (301 kB)\n",
      "\u001b[2K   \u001b[90m━━━━━━━━━━━━━━━━━━━━━━━━━━━━━━━━━━━━━━━━\u001b[0m \u001b[32m301.8/301.8 kB\u001b[0m \u001b[31m26.1 MB/s\u001b[0m eta \u001b[36m0:00:00\u001b[0m\n",
      "\u001b[?25hDownloading scipy-1.13.1-cp39-cp39-manylinux_2_17_x86_64.manylinux2014_x86_64.whl (38.6 MB)\n",
      "\u001b[2K   \u001b[90m━━━━━━━━━━━━━━━━━━━━━━━━━━━━━━━━━━━━━━━━\u001b[0m \u001b[32m38.6/38.6 MB\u001b[0m \u001b[31m95.5 MB/s\u001b[0m eta \u001b[36m0:00:00\u001b[0m:00:01\u001b[0m00:01\u001b[0m\n",
      "\u001b[?25hDownloading threadpoolctl-3.5.0-py3-none-any.whl (18 kB)\n",
      "Installing collected packages: threadpoolctl, scipy, joblib, daal, scikit-learn, daal4py, scikit-learn-intelex\n",
      "Successfully installed daal-2024.7.0 daal4py-2024.7.0 joblib-1.4.2 scikit-learn-1.5.2 scikit-learn-intelex-2024.7.0 scipy-1.13.1 threadpoolctl-3.5.0\n",
      "Note: you may need to restart the kernel to use updated packages.\n"
     ]
    }
   ],
   "source": [
    "pip install scikit-learn-intelex"
   ]
  },
  {
   "cell_type": "code",
   "execution_count": 6,
   "id": "b24a18c4-5e50-4eec-9d8f-6762c4215428",
   "metadata": {},
   "outputs": [
    {
     "name": "stderr",
     "output_type": "stream",
     "text": [
      "Intel(R) Extension for Scikit-learn* enabled (https://github.com/intel/scikit-learn-intelex)\n"
     ]
    }
   ],
   "source": [
    "import numpy as np\n",
    "import dpctl\n",
    "from sklearnex import patch_sklearn,config_context\n",
    "patch_sklearn()\n"
   ]
  },
  {
   "cell_type": "code",
   "execution_count": 11,
   "id": "086bb297-29b6-4af5-9595-87c3825653d3",
   "metadata": {},
   "outputs": [
    {
     "name": "stdout",
     "output_type": "stream",
     "text": [
      "Defaulting to user installation because normal site-packages is not writeable\n",
      "Collecting openpyxl\n",
      "  Downloading openpyxl-3.1.5-py2.py3-none-any.whl.metadata (2.5 kB)\n",
      "Collecting et-xmlfile (from openpyxl)\n",
      "  Downloading et_xmlfile-1.1.0-py3-none-any.whl.metadata (1.8 kB)\n",
      "Downloading openpyxl-3.1.5-py2.py3-none-any.whl (250 kB)\n",
      "\u001b[2K   \u001b[90m━━━━━━━━━━━━━━━━━━━━━━━━━━━━━━━━━━━━━━━━\u001b[0m \u001b[32m250.9/250.9 kB\u001b[0m \u001b[31m10.0 MB/s\u001b[0m eta \u001b[36m0:00:00\u001b[0m\n",
      "\u001b[?25hDownloading et_xmlfile-1.1.0-py3-none-any.whl (4.7 kB)\n",
      "Installing collected packages: et-xmlfile, openpyxl\n",
      "Successfully installed et-xmlfile-1.1.0 openpyxl-3.1.5\n",
      "Note: you may need to restart the kernel to use updated packages.\n"
     ]
    }
   ],
   "source": [
    "pip install openpyxl"
   ]
  },
  {
   "cell_type": "code",
   "execution_count": 12,
   "id": "fb45ec6d-952a-4c31-8cda-8b1ca5bf5515",
   "metadata": {},
   "outputs": [
    {
     "name": "stdout",
     "output_type": "stream",
     "text": [
      "   gender  age month_name  year             type  expense\n",
      "0    Male   65       July  2010  processed foods      747\n",
      "1    Male   40  September  2010      electronics    16804\n",
      "2  Female   66      March  2010       stationary      292\n",
      "3    Male   30        May  2010         clothing     2326\n",
      "4  Female   53        May  2010  processed foods      665\n",
      "\n",
      "Predicted Expense using Linear Regression for month 7 and type 1: 5502.027654123014\n",
      "Accuracy Percentage: 88.13%\n"
     ]
    }
   ],
   "source": [
    "import pandas as pd\n",
    "from sklearnex.model_selection import train_test_split\n",
    "from sklearnex.linear_model import LinearRegression\n",
    "from sklearn.metrics import mean_absolute_error, mean_squared_error, r2_score\n",
    "from sklearn.preprocessing import MinMaxScaler\n",
    "\n",
    "\n",
    "\n",
    "data = pd.read_excel('preprocessed_data2.xlsx') \n",
    "\n",
    "# Display first few rows\n",
    "print(data.head())\n",
    "\n",
    "# Handle missing values \n",
    "data.dropna(inplace=True)\n",
    "\n",
    "# Ensure that 'month_name' exists in your DataFrame before converting\n",
    "if 'month_name' in data.columns:\n",
    "    # Convert 'month_name' from string to datetime and extract month number\n",
    "    data['month'] = pd.to_datetime(data['month_name'], format='%B', errors='coerce').dt.month\n",
    "\n",
    "    # Check for any NaT values after conversion (indicating conversion issues)\n",
    "    if data['month'].isnull().any():\n",
    "        print(\"Warning: Some month names could not be converted. Check your month_name values.\")\n",
    "else:\n",
    "    raise ValueError(\"Column 'month_name' does not exist in the DataFrame.\")\n",
    "\n",
    "# Encode the 'type' feature\n",
    "if 'type' in data.columns:\n",
    "    data['type_encoded'] = data['type'].astype('category').cat.codes  # Convert 'type' to numeric codes\n",
    "else:\n",
    "    raise ValueError(\"Column 'type' does not exist in the DataFrame.\")\n",
    "\n",
    "# Features and target variable for Linear Regression (month and type as inputs)\n",
    "X_lr = data[['month', 'type_encoded']]  # Features: month and type (encoded)\n",
    "y = data['expense']  # Target variable: expense\n",
    "\n",
    "# Scale target variable for better performance\n",
    "scaler = MinMaxScaler()\n",
    "y_scaled = scaler.fit_transform(y.values.reshape(-1, 1))\n",
    "\n",
    "# Split the data into training and testing sets for Linear Regression\n",
    "X_train_lr, X_test_lr, y_train_lr, y_test_lr = train_test_split(X_lr, y_scaled.flatten(), test_size=0.2, random_state=42)\n",
    "\n",
    "# Train Linear Regression model\n",
    "lr_model = LinearRegression()\n",
    "lr_model.fit(X_train_lr, y_train_lr)\n",
    "\n",
    "# Evaluate Linear Regression model\n",
    "def evaluate_linear_regression(X_test, y_test):\n",
    "    predictions = lr_model.predict(X_test)\n",
    "    predictions_inverse_scaled = scaler.inverse_transform(predictions.reshape(-1, 1)).flatten()\n",
    "\n",
    "    mae = mean_absolute_error(y_test, predictions)\n",
    "    mse = mean_squared_error(y_test, predictions)\n",
    "    r_squared = r2_score(y_test, predictions)\n",
    "\n",
    "    accuracy_percentage = (1 - (abs(y_test - predictions) / (y.max() - y.min()))).mean() * 100\n",
    "\n",
    "    return predictions_inverse_scaled, accuracy_percentage\n",
    "\n",
    "# Function to predict expense using Linear Regression\n",
    "def predict_expense_lr(month_input, type_input):\n",
    "    new_data_lr = pd.DataFrame({\n",
    "        'month': [month_input],\n",
    "        'type_encoded': [type_input]\n",
    "    })\n",
    "\n",
    "    # Use the model to predict expense for new input data\n",
    "    predicted_expense_scaled = lr_model.predict(new_data_lr)\n",
    "\n",
    "    # Inverse scale prediction to get original expense value\n",
    "    predicted_expense_inverse_scaled = scaler.inverse_transform(predicted_expense_scaled.reshape(-1, 1)).flatten()[0]\n",
    "\n",
    "    # Calculate accuracy percentage based on actual values in training set (this is just an example)\n",
    "    accuracy_percentage = (1 - abs(predicted_expense_inverse_scaled - y.mean()) / (y.max() - y.min())) * 100\n",
    "\n",
    "    print(f'\\nPredicted Expense using Linear Regression for month {month_input} and type {type_input}: {predicted_expense_inverse_scaled}')\n",
    "    print(f'Accuracy Percentage: {accuracy_percentage:.2f}%')\n",
    "\n",
    "    return predicted_expense_inverse_scaled, accuracy_percentage\n",
    "\n",
    "#  Test with example inputs\n",
    "predicted_lr_expense, lr_accuracy_percentage = predict_expense_lr(month_input=7, type_input=1)\n",
    "\n",
    "\n",
    "import joblib\n",
    "\n",
    "# Save the model\n",
    "joblib.dump(lr_model, 'linear_regression.pkl')\n",
    "\n",
    "# Load the model \n",
    "lr_model_pickle = joblib.load('linear_regression.pkl')"
   ]
  },
  {
   "cell_type": "code",
   "execution_count": null,
   "id": "144b3010-7c7b-4e96-b86b-d05c31790285",
   "metadata": {},
   "outputs": [],
   "source": []
  }
 ],
 "metadata": {
  "kernelspec": {
   "display_name": "Modin",
   "language": "python",
   "name": "modin"
  },
  "language_info": {
   "codemirror_mode": {
    "name": "ipython",
    "version": 3
   },
   "file_extension": ".py",
   "mimetype": "text/x-python",
   "name": "python",
   "nbconvert_exporter": "python",
   "pygments_lexer": "ipython3",
   "version": "3.9.19"
  }
 },
 "nbformat": 4,
 "nbformat_minor": 5
}
